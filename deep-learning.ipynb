{
 "cells": [
  {
   "cell_type": "code",
   "execution_count": null,
   "metadata": {
    "id": "1PKIVbj0IVoD"
   },
   "outputs": [],
   "source": [
    "import time\n",
    "import datetime\n",
    "import pandas as pd\n",
    "import numpy as np\n",
    "from sklearn.model_selection import train_test_split\n",
    "from sklearn.model_selection import cross_val_predict\n",
    "from sklearn.model_selection import KFold\n",
    "from sklearn import metrics\n",
    "from sklearn.preprocessing import LabelEncoder\n",
    "from sklearn.preprocessing import MinMaxScaler\n",
    "\n",
    "import tensorflow as tf\n",
    "from tensorflow import keras\n",
    "from tensorflow.keras import backend as K\n",
    "from tensorflow.keras.models import Sequential\n",
    "from tensorflow.keras.layers import LSTM, Dense, Dropout, Conv1D, GlobalAveragePooling1D, BatchNormalization, SimpleRNN\n",
    "from tensorflow.keras.metrics import Accuracy, Precision, Recall\n",
    "from tensorflow.keras.wrappers.scikit_learn import KerasRegressor\n",
    "from tensorflow.keras.optimizers import SGD"
   ]
  },
  {
   "cell_type": "code",
   "execution_count": null,
   "metadata": {
    "id": "Nv5kV0g2-yme"
   },
   "outputs": [],
   "source": [
    "tmp_dt = [\n",
    "    { \n",
    "        'name': 'Mirai_dataset', \n",
    "        'df': pd.read_csv('Mirai_dataset.csv'),\n",
    "        'label': pd.read_csv('mirai_labels.csv')\n",
    "    },\n",
    "]\n",
    "for dt in tmp_dt: print(dt['name'])"
   ]
  },
  {
   "cell_type": "code",
   "execution_count": null,
   "metadata": {
    "id": "7NAvuWZOoqFQ"
   },
   "outputs": [],
   "source": [
    "datasets = []\n",
    "result = {\n",
    "    'dataset': [],\n",
    "    'model': [],\n",
    "    'accuracy': [],\n",
    "    'precision': [],\n",
    "    'recall': [],\n",
    "    'f-score': [],\n",
    "    'train_time': [],\n",
    "    'test_time': []\n",
    "}"
   ]
  },
  {
   "cell_type": "code",
   "execution_count": null,
   "metadata": {
    "id": "eBVvFIm_miK9"
   },
   "outputs": [],
   "source": [
    "for dt in tmp_dt:\n",
    "    X = np.array(dt['df'])\n",
    "    y = np.array(dt['label']) \n",
    "    \n",
    "    datasets.append({'name': dt['name'], 'X': X, 'y': y})"
   ]
  },
  {
   "cell_type": "code",
   "execution_count": null,
   "metadata": {},
   "outputs": [],
   "source": [
    "def recall_m(y_true, y_pred):\n",
    "    true_positives = K.sum(K.round(K.clip(y_true * y_pred, 0, 1)))\n",
    "    possible_positives = K.sum(K.round(K.clip(y_true, 0, 1)))\n",
    "    recall = true_positives / (possible_positives + K.epsilon())\n",
    "    return recall\n",
    "\n",
    "def precision_m(y_true, y_pred):\n",
    "    true_positives = K.sum(K.round(K.clip(y_true * y_pred, 0, 1)))\n",
    "    predicted_positives = K.sum(K.round(K.clip(y_pred, 0, 1)))\n",
    "    precision = true_positives / (predicted_positives + K.epsilon())\n",
    "    return precision\n",
    "\n",
    "def f1_m(y_true, y_pred):\n",
    "    precision = precision_m(y_true, y_pred)\n",
    "    recall = recall_m(y_true, y_pred)\n",
    "    return 2*((precision*recall)/(precision+recall+K.epsilon()))"
   ]
  },
  {
   "cell_type": "code",
   "execution_count": null,
   "metadata": {},
   "outputs": [],
   "source": [
    "def rnn_model(x_train):\n",
    "    model = Sequential()\n",
    "    model.add(SimpleRNN(256, dropout=0.2, input_shape=(1, x_train.shape[1])))\n",
    "    model.add(Dense(256, activation='relu'))\n",
    "    model.add(Dropout(0.2))\n",
    "    model.add(Dense(1, activation='sigmoid'))\n",
    "    \n",
    "    model.compile(\n",
    "        loss='binary_crossentropy', \n",
    "        optimizer='adam',\n",
    "        metrics=['accuracy', f1_m, precision_m, recall_m]\n",
    "    )\n",
    "    return {'mdl': model, 'name': 'RNN'}"
   ]
  },
  {
   "cell_type": "code",
   "execution_count": null,
   "metadata": {
    "id": "yAPpS4G7835j"
   },
   "outputs": [],
   "source": [
    "def lstm_model(x_train):\n",
    "    model = Sequential([\n",
    "        LSTM(x_train.shape[1], input_shape=(1, x_train.shape[1]), activation='relu', return_sequences=True),\n",
    "        Dropout(0.2),\n",
    "        LSTM(128, activation='relu', return_sequences=True),\n",
    "        Dropout(0.2),\n",
    "        LSTM(100, activation='relu', return_sequences=True),\n",
    "        Dropout(0.2),\n",
    "        LSTM(64, activation='relu'),\n",
    "        Dropout(0.2),\n",
    "        Dense(1, activation= 'softmax')\n",
    "    ])\n",
    "    model.compile(\n",
    "        loss='binary_crossentropy', \n",
    "        optimizer='adam',\n",
    "        metrics=['accuracy', f1_m, precision_m, recall_m]\n",
    "    )\n",
    "    return {'mdl': model, 'name': 'LSTM'}"
   ]
  },
  {
   "cell_type": "code",
   "execution_count": null,
   "metadata": {
    "id": "NhlH2Lau9db4"
   },
   "outputs": [],
   "source": [
    "def cnn_model(x_train):\n",
    "    model = Sequential([\n",
    "        Conv1D(input_shape=(1, x_train.shape[1]), filters=64, kernel_size=3, activation='relu', padding='same'),\n",
    "        Conv1D(filters=32, kernel_size=3, activation='relu', padding='same'),\n",
    "        Conv1D(filters=16, kernel_size=2, activation='relu', padding='same'),\n",
    "        GlobalAveragePooling1D(),\n",
    "        Dense(52, activation='relu'),\n",
    "        Dense(26, activation='relu'),\n",
    "        Dense(1, activation= 'softmax')\n",
    "    ])\n",
    "    model.compile(\n",
    "        loss='binary_crossentropy', \n",
    "        optimizer='adam',\n",
    "        metrics=['accuracy', f1_m, precision_m, recall_m]\n",
    "    )\n",
    "    return {'mdl': model, 'name': 'CNN'}"
   ]
  },
  {
   "cell_type": "code",
   "execution_count": null,
   "metadata": {},
   "outputs": [],
   "source": [
    "def intermediate_net_model(x_train):\n",
    "    model = Sequential()\n",
    "    model.add(Dense(64, activation='relu', input_shape=(1, x_train.shape[1])))\n",
    "    model.add(Dense(64, activation='relu'))\n",
    "    model.add(Dense(1, activation='softmax'))\n",
    "    \n",
    "    model.compile(\n",
    "        loss='binary_crossentropy', \n",
    "        optimizer=SGD(learning_rate=0.1), \n",
    "        metrics=['accuracy', f1_m, precision_m, recall_m]\n",
    "    )\n",
    "    return {'mdl': model, 'name': 'Intermediate Net'}"
   ]
  },
  {
   "cell_type": "code",
   "execution_count": null,
   "metadata": {},
   "outputs": [],
   "source": [
    "def deep_net_model(x_train):\n",
    "    model = Sequential()\n",
    "\n",
    "    model.add(Dense(64, activation='relu', input_shape=(1, x_train.shape[1])))\n",
    "    model.add(BatchNormalization())\n",
    "\n",
    "    model.add(Dense(64, activation='relu'))\n",
    "    model.add(BatchNormalization())\n",
    "\n",
    "    model.add(Dense(64, activation='relu'))\n",
    "    model.add(BatchNormalization())\n",
    "    model.add(Dropout(0.2))\n",
    "\n",
    "    model.add(Dense(1, activation='softmax'))\n",
    "    model.compile(\n",
    "        loss='binary_crossentropy', \n",
    "        optimizer='adam', \n",
    "        metrics=['accuracy', f1_m, precision_m, recall_m]\n",
    "    )\n",
    "    return {'mdl': model, 'name': 'Deep Net'}"
   ]
  },
  {
   "cell_type": "code",
   "execution_count": null,
   "metadata": {
    "id": "c_AJsnool2O_"
   },
   "outputs": [],
   "source": [
    "for dt in datasets:\n",
    "    dataset_start_time = time.time()\n",
    "    dt_name = dt['name']\n",
    "    X_train, X_test, y_train, y_test = train_test_split(dt['X'], dt['y'], test_size = 0.2)\n",
    "    cv = KFold(n_splits=4, random_state=1, shuffle=True)\n",
    "    sc = MinMaxScaler(feature_range = (0, X_train.shape[1]))\n",
    "    \n",
    "    # Deep leaning models\n",
    "    dl_models = [\n",
    "        intermediate_net_model(X_train),\n",
    "        deep_net_model(X_train),\n",
    "        rnn_model(X_train),\n",
    "        lstm_model(X_train),\n",
    "        cnn_model(X_train),\n",
    "    ]\n",
    "\n",
    "    X_train = X_train.reshape(X_train.shape[0], 1, X_train.shape[1])\n",
    "    X_test = X_test.reshape(X_test.shape[0], 1, X_test.shape[1])\n",
    "\n",
    "    for model in dl_models:\n",
    "        model_name = model['name']\n",
    "        print(f'Starting analising dataset [{dt_name}] with model {model_name}')\n",
    "        \n",
    "        # Train\n",
    "        print(f'Training dataset [{dt_name}] with model {model_name}')\n",
    "        train_start_time = time.time()\n",
    "        estimator = model['mdl'].fit(X_train, y_train, batch_size=64, epochs=32, verbose=0)\n",
    "        train_elapsed_time = time.time() - train_start_time\n",
    "        \n",
    "        #Test\n",
    "        print(f'Testing dataset [{dt_name}] with model {model_name}')\n",
    "        test_start_time = time.time()\n",
    "        results = model['mdl'].evaluate(X_test, y_test, verbose=0)\n",
    "        test_elapsed_time = time.time() - train_start_time\n",
    "        \n",
    "        #Build results\n",
    "        accuracy = results[1]\n",
    "        f_score = results[2]\n",
    "        precision = results[3]\n",
    "        recall = results[4]\n",
    "        \n",
    "        result['dataset'].append(dt_name)\n",
    "        result['model'].append(model_name)\n",
    "        result['accuracy'].append(accuracy)\n",
    "        result['precision'].append(precision)\n",
    "        result['recall'].append(recall)\n",
    "        result['f-score'].append(f_score)\n",
    "        result['train_time'].append(str(datetime.timedelta(seconds=train_elapsed_time)))\n",
    "        result['test_time'].append(str(datetime.timedelta(seconds=test_elapsed_time)))\n",
    "        \n",
    "    dataset_elapsed_time = time.time() - dataset_start_time\n",
    "    print(f'dataset [{dt_name}] took {str(dataset_elapsed_time)} seconds to complete\\n')"
   ]
  },
  {
   "cell_type": "code",
   "execution_count": null,
   "metadata": {
    "id": "XZ-s5_semFAR"
   },
   "outputs": [],
   "source": [
    "print('Results are:\\n')\n",
    "pd.DataFrame(data=result)"
   ]
  },
  {
   "cell_type": "code",
   "execution_count": null,
   "metadata": {},
   "outputs": [],
   "source": [
    "df = pd.DataFrame(result)\n",
    "df.to_csv (r'results.csv', index = False, header=True)"
   ]
  }
 ],
 "metadata": {
  "colab": {
   "collapsed_sections": [],
   "name": "trab_ter_conhecimento_raciocínio.ipynb",
   "provenance": []
  },
  "kernelspec": {
   "display_name": "Python 3",
   "language": "python",
   "name": "python3"
  },
  "language_info": {
   "codemirror_mode": {
    "name": "ipython",
    "version": 3
   },
   "file_extension": ".py",
   "mimetype": "text/x-python",
   "name": "python",
   "nbconvert_exporter": "python",
   "pygments_lexer": "ipython3",
   "version": "3.8.10"
  }
 },
 "nbformat": 4,
 "nbformat_minor": 1
}
