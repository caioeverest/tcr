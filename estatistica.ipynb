{
 "cells": [
  {
   "cell_type": "code",
   "execution_count": null,
   "id": "68f0e64e",
   "metadata": {},
   "outputs": [],
   "source": [
    "import pandas as pd"
   ]
  },
  {
   "cell_type": "code",
   "execution_count": null,
   "id": "19d7574c",
   "metadata": {},
   "outputs": [],
   "source": [
    "dataset = pd.read_csv('Mirai_dataset.csv', sep=',')"
   ]
  },
  {
   "cell_type": "code",
   "execution_count": null,
   "id": "468fe6ce",
   "metadata": {},
   "outputs": [],
   "source": [
    "dataset['0'].describe()"
   ]
  },
  {
   "cell_type": "code",
   "execution_count": null,
   "id": "1d4942bc",
   "metadata": {},
   "outputs": [],
   "source": [
    "dataset['60.0'].describe()"
   ]
  },
  {
   "cell_type": "code",
   "execution_count": null,
   "id": "0c130310",
   "metadata": {},
   "outputs": [],
   "source": [
    "dataset['0.0'].describe()"
   ]
  },
  {
   "cell_type": "code",
   "execution_count": null,
   "id": "ff60f9ab",
   "metadata": {
    "scrolled": true
   },
   "outputs": [],
   "source": [
    "dataset['1540446382.933899'].describe()"
   ]
  },
  {
   "cell_type": "code",
   "execution_count": null,
   "id": "fe071001",
   "metadata": {},
   "outputs": [],
   "source": [
    "dataset['1.0'].describe()"
   ]
  },
  {
   "cell_type": "code",
   "execution_count": null,
   "id": "38f22323",
   "metadata": {},
   "outputs": [],
   "source": [
    "dataset['1.0.1'].describe()"
   ]
  },
  {
   "cell_type": "code",
   "execution_count": null,
   "id": "68fddcd5",
   "metadata": {},
   "outputs": [],
   "source": [
    "dataset['0.0.51'].describe()"
   ]
  },
  {
   "cell_type": "code",
   "execution_count": null,
   "id": "36b90b2d",
   "metadata": {},
   "outputs": [],
   "source": [
    "dataset['60.0.29'].describe()"
   ]
  },
  {
   "cell_type": "code",
   "execution_count": null,
   "id": "ab84410d",
   "metadata": {},
   "outputs": [],
   "source": [
    "dataset['0.0.52'].describe()"
   ]
  },
  {
   "cell_type": "code",
   "execution_count": null,
   "id": "db8f316f",
   "metadata": {},
   "outputs": [],
   "source": [
    "dataset['0.0.53'].describe()"
   ]
  },
  {
   "cell_type": "code",
   "execution_count": null,
   "id": "2f0f7d01",
   "metadata": {},
   "outputs": [],
   "source": [
    "dataset['0.0.54'].describe()"
   ]
  },
  {
   "cell_type": "code",
   "execution_count": null,
   "id": "bad4be67",
   "metadata": {},
   "outputs": [],
   "source": [
    "dataset.skew()"
   ]
  },
  {
   "cell_type": "code",
   "execution_count": null,
   "id": "9eb22402",
   "metadata": {},
   "outputs": [],
   "source": [
    "dataset.corr()"
   ]
  }
 ],
 "metadata": {
  "kernelspec": {
   "display_name": "Python 3",
   "language": "python",
   "name": "python3"
  },
  "language_info": {
   "codemirror_mode": {
    "name": "ipython",
    "version": 3
   },
   "file_extension": ".py",
   "mimetype": "text/x-python",
   "name": "python",
   "nbconvert_exporter": "python",
   "pygments_lexer": "ipython3",
   "version": "3.8.10"
  }
 },
 "nbformat": 4,
 "nbformat_minor": 5
}
